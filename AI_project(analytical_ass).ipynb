{
  "nbformat": 4,
  "nbformat_minor": 0,
  "metadata": {
    "colab": {
      "provenance": [],
      "authorship_tag": "ABX9TyNNInTmOHTHpP9LrwClCoYS",
      "include_colab_link": true
    },
    "kernelspec": {
      "name": "python3",
      "display_name": "Python 3"
    },
    "language_info": {
      "name": "python"
    }
  },
  "cells": [
    {
      "cell_type": "markdown",
      "metadata": {
        "id": "view-in-github",
        "colab_type": "text"
      },
      "source": [
        "<a href=\"https://colab.research.google.com/github/krishnadixit05/Mall-Customer-Segmentation/blob/main/AI_project(analytical_ass).ipynb\" target=\"_parent\"><img src=\"https://colab.research.google.com/assets/colab-badge.svg\" alt=\"Open In Colab\"/></a>"
      ]
    },
    {
      "cell_type": "markdown",
      "source": [
        "#TextRank"
      ],
      "metadata": {
        "id": "ZEIpYYcE8AkZ"
      }
    },
    {
      "source": [
        "!pip install pytextrank\n",
        "\n",
        "import spacy\n",
        "import pytextrank"
      ],
      "cell_type": "code",
      "metadata": {
        "id": "EcfFWMpL8Vuu",
        "colab": {
          "base_uri": "https://localhost:8080/"
        },
        "outputId": "10d9f8cb-4e27-4a5a-a2cf-9115fc4948e7",
        "collapsed": true
      },
      "execution_count": null,
      "outputs": [
        {
          "output_type": "stream",
          "name": "stdout",
          "text": [
            "Collecting pytextrank\n",
            "  Downloading pytextrank-3.3.0-py3-none-any.whl.metadata (12 kB)\n",
            "Requirement already satisfied: GitPython>=3.1 in /usr/local/lib/python3.11/dist-packages (from pytextrank) (3.1.44)\n",
            "Requirement already satisfied: graphviz>=0.13 in /usr/local/lib/python3.11/dist-packages (from pytextrank) (0.20.3)\n",
            "Collecting icecream>=2.1 (from pytextrank)\n",
            "  Downloading icecream-2.1.4-py3-none-any.whl.metadata (1.3 kB)\n",
            "Requirement already satisfied: networkx>=2.6 in /usr/local/lib/python3.11/dist-packages (from networkx[default]>=2.6->pytextrank) (3.4.2)\n",
            "Requirement already satisfied: pygments>=2.7.4 in /usr/local/lib/python3.11/dist-packages (from pytextrank) (2.18.0)\n",
            "Requirement already satisfied: scipy>=1.7 in /usr/local/lib/python3.11/dist-packages (from pytextrank) (1.14.1)\n",
            "Requirement already satisfied: spacy>=3.0 in /usr/local/lib/python3.11/dist-packages (from pytextrank) (3.8.4)\n",
            "Requirement already satisfied: gitdb<5,>=4.0.1 in /usr/local/lib/python3.11/dist-packages (from GitPython>=3.1->pytextrank) (4.0.12)\n",
            "Collecting colorama>=0.3.9 (from icecream>=2.1->pytextrank)\n",
            "  Downloading colorama-0.4.6-py2.py3-none-any.whl.metadata (17 kB)\n",
            "Collecting executing>=2.1.0 (from icecream>=2.1->pytextrank)\n",
            "  Downloading executing-2.2.0-py2.py3-none-any.whl.metadata (8.9 kB)\n",
            "Collecting asttokens>=2.0.1 (from icecream>=2.1->pytextrank)\n",
            "  Downloading asttokens-3.0.0-py3-none-any.whl.metadata (4.7 kB)\n",
            "Requirement already satisfied: numpy>=1.24 in /usr/local/lib/python3.11/dist-packages (from networkx[default]>=2.6->pytextrank) (2.0.2)\n",
            "Requirement already satisfied: matplotlib>=3.7 in /usr/local/lib/python3.11/dist-packages (from networkx[default]>=2.6->pytextrank) (3.10.0)\n",
            "Requirement already satisfied: pandas>=2.0 in /usr/local/lib/python3.11/dist-packages (from networkx[default]>=2.6->pytextrank) (2.2.2)\n",
            "Requirement already satisfied: spacy-legacy<3.1.0,>=3.0.11 in /usr/local/lib/python3.11/dist-packages (from spacy>=3.0->pytextrank) (3.0.12)\n",
            "Requirement already satisfied: spacy-loggers<2.0.0,>=1.0.0 in /usr/local/lib/python3.11/dist-packages (from spacy>=3.0->pytextrank) (1.0.5)\n",
            "Requirement already satisfied: murmurhash<1.1.0,>=0.28.0 in /usr/local/lib/python3.11/dist-packages (from spacy>=3.0->pytextrank) (1.0.12)\n",
            "Requirement already satisfied: cymem<2.1.0,>=2.0.2 in /usr/local/lib/python3.11/dist-packages (from spacy>=3.0->pytextrank) (2.0.11)\n",
            "Requirement already satisfied: preshed<3.1.0,>=3.0.2 in /usr/local/lib/python3.11/dist-packages (from spacy>=3.0->pytextrank) (3.0.9)\n",
            "Requirement already satisfied: thinc<8.4.0,>=8.3.4 in /usr/local/lib/python3.11/dist-packages (from spacy>=3.0->pytextrank) (8.3.4)\n",
            "Requirement already satisfied: wasabi<1.2.0,>=0.9.1 in /usr/local/lib/python3.11/dist-packages (from spacy>=3.0->pytextrank) (1.1.3)\n",
            "Requirement already satisfied: srsly<3.0.0,>=2.4.3 in /usr/local/lib/python3.11/dist-packages (from spacy>=3.0->pytextrank) (2.5.1)\n",
            "Requirement already satisfied: catalogue<2.1.0,>=2.0.6 in /usr/local/lib/python3.11/dist-packages (from spacy>=3.0->pytextrank) (2.0.10)\n",
            "Requirement already satisfied: weasel<0.5.0,>=0.1.0 in /usr/local/lib/python3.11/dist-packages (from spacy>=3.0->pytextrank) (0.4.1)\n",
            "Requirement already satisfied: typer<1.0.0,>=0.3.0 in /usr/local/lib/python3.11/dist-packages (from spacy>=3.0->pytextrank) (0.15.2)\n",
            "Requirement already satisfied: tqdm<5.0.0,>=4.38.0 in /usr/local/lib/python3.11/dist-packages (from spacy>=3.0->pytextrank) (4.67.1)\n",
            "Requirement already satisfied: requests<3.0.0,>=2.13.0 in /usr/local/lib/python3.11/dist-packages (from spacy>=3.0->pytextrank) (2.32.3)\n",
            "Requirement already satisfied: pydantic!=1.8,!=1.8.1,<3.0.0,>=1.7.4 in /usr/local/lib/python3.11/dist-packages (from spacy>=3.0->pytextrank) (2.10.6)\n",
            "Requirement already satisfied: jinja2 in /usr/local/lib/python3.11/dist-packages (from spacy>=3.0->pytextrank) (3.1.6)\n",
            "Requirement already satisfied: setuptools in /usr/local/lib/python3.11/dist-packages (from spacy>=3.0->pytextrank) (75.1.0)\n",
            "Requirement already satisfied: packaging>=20.0 in /usr/local/lib/python3.11/dist-packages (from spacy>=3.0->pytextrank) (24.2)\n",
            "Requirement already satisfied: langcodes<4.0.0,>=3.2.0 in /usr/local/lib/python3.11/dist-packages (from spacy>=3.0->pytextrank) (3.5.0)\n",
            "Requirement already satisfied: smmap<6,>=3.0.1 in /usr/local/lib/python3.11/dist-packages (from gitdb<5,>=4.0.1->GitPython>=3.1->pytextrank) (5.0.2)\n",
            "Requirement already satisfied: language-data>=1.2 in /usr/local/lib/python3.11/dist-packages (from langcodes<4.0.0,>=3.2.0->spacy>=3.0->pytextrank) (1.3.0)\n",
            "Requirement already satisfied: contourpy>=1.0.1 in /usr/local/lib/python3.11/dist-packages (from matplotlib>=3.7->networkx[default]>=2.6->pytextrank) (1.3.1)\n",
            "Requirement already satisfied: cycler>=0.10 in /usr/local/lib/python3.11/dist-packages (from matplotlib>=3.7->networkx[default]>=2.6->pytextrank) (0.12.1)\n",
            "Requirement already satisfied: fonttools>=4.22.0 in /usr/local/lib/python3.11/dist-packages (from matplotlib>=3.7->networkx[default]>=2.6->pytextrank) (4.56.0)\n",
            "Requirement already satisfied: kiwisolver>=1.3.1 in /usr/local/lib/python3.11/dist-packages (from matplotlib>=3.7->networkx[default]>=2.6->pytextrank) (1.4.8)\n",
            "Requirement already satisfied: pillow>=8 in /usr/local/lib/python3.11/dist-packages (from matplotlib>=3.7->networkx[default]>=2.6->pytextrank) (11.1.0)\n",
            "Requirement already satisfied: pyparsing>=2.3.1 in /usr/local/lib/python3.11/dist-packages (from matplotlib>=3.7->networkx[default]>=2.6->pytextrank) (3.2.1)\n",
            "Requirement already satisfied: python-dateutil>=2.7 in /usr/local/lib/python3.11/dist-packages (from matplotlib>=3.7->networkx[default]>=2.6->pytextrank) (2.8.2)\n",
            "Requirement already satisfied: pytz>=2020.1 in /usr/local/lib/python3.11/dist-packages (from pandas>=2.0->networkx[default]>=2.6->pytextrank) (2025.1)\n",
            "Requirement already satisfied: tzdata>=2022.7 in /usr/local/lib/python3.11/dist-packages (from pandas>=2.0->networkx[default]>=2.6->pytextrank) (2025.1)\n",
            "Requirement already satisfied: annotated-types>=0.6.0 in /usr/local/lib/python3.11/dist-packages (from pydantic!=1.8,!=1.8.1,<3.0.0,>=1.7.4->spacy>=3.0->pytextrank) (0.7.0)\n",
            "Requirement already satisfied: pydantic-core==2.27.2 in /usr/local/lib/python3.11/dist-packages (from pydantic!=1.8,!=1.8.1,<3.0.0,>=1.7.4->spacy>=3.0->pytextrank) (2.27.2)\n",
            "Requirement already satisfied: typing-extensions>=4.12.2 in /usr/local/lib/python3.11/dist-packages (from pydantic!=1.8,!=1.8.1,<3.0.0,>=1.7.4->spacy>=3.0->pytextrank) (4.12.2)\n",
            "Requirement already satisfied: charset-normalizer<4,>=2 in /usr/local/lib/python3.11/dist-packages (from requests<3.0.0,>=2.13.0->spacy>=3.0->pytextrank) (3.4.1)\n",
            "Requirement already satisfied: idna<4,>=2.5 in /usr/local/lib/python3.11/dist-packages (from requests<3.0.0,>=2.13.0->spacy>=3.0->pytextrank) (3.10)\n",
            "Requirement already satisfied: urllib3<3,>=1.21.1 in /usr/local/lib/python3.11/dist-packages (from requests<3.0.0,>=2.13.0->spacy>=3.0->pytextrank) (2.3.0)\n",
            "Requirement already satisfied: certifi>=2017.4.17 in /usr/local/lib/python3.11/dist-packages (from requests<3.0.0,>=2.13.0->spacy>=3.0->pytextrank) (2025.1.31)\n",
            "Requirement already satisfied: blis<1.3.0,>=1.2.0 in /usr/local/lib/python3.11/dist-packages (from thinc<8.4.0,>=8.3.4->spacy>=3.0->pytextrank) (1.2.0)\n",
            "Requirement already satisfied: confection<1.0.0,>=0.0.1 in /usr/local/lib/python3.11/dist-packages (from thinc<8.4.0,>=8.3.4->spacy>=3.0->pytextrank) (0.1.5)\n",
            "Requirement already satisfied: click>=8.0.0 in /usr/local/lib/python3.11/dist-packages (from typer<1.0.0,>=0.3.0->spacy>=3.0->pytextrank) (8.1.8)\n",
            "Requirement already satisfied: shellingham>=1.3.0 in /usr/local/lib/python3.11/dist-packages (from typer<1.0.0,>=0.3.0->spacy>=3.0->pytextrank) (1.5.4)\n",
            "Requirement already satisfied: rich>=10.11.0 in /usr/local/lib/python3.11/dist-packages (from typer<1.0.0,>=0.3.0->spacy>=3.0->pytextrank) (13.9.4)\n",
            "Requirement already satisfied: cloudpathlib<1.0.0,>=0.7.0 in /usr/local/lib/python3.11/dist-packages (from weasel<0.5.0,>=0.1.0->spacy>=3.0->pytextrank) (0.21.0)\n",
            "Requirement already satisfied: smart-open<8.0.0,>=5.2.1 in /usr/local/lib/python3.11/dist-packages (from weasel<0.5.0,>=0.1.0->spacy>=3.0->pytextrank) (7.1.0)\n",
            "Requirement already satisfied: MarkupSafe>=2.0 in /usr/local/lib/python3.11/dist-packages (from jinja2->spacy>=3.0->pytextrank) (3.0.2)\n",
            "Requirement already satisfied: marisa-trie>=1.1.0 in /usr/local/lib/python3.11/dist-packages (from language-data>=1.2->langcodes<4.0.0,>=3.2.0->spacy>=3.0->pytextrank) (1.2.1)\n",
            "Requirement already satisfied: six>=1.5 in /usr/local/lib/python3.11/dist-packages (from python-dateutil>=2.7->matplotlib>=3.7->networkx[default]>=2.6->pytextrank) (1.17.0)\n",
            "Requirement already satisfied: markdown-it-py>=2.2.0 in /usr/local/lib/python3.11/dist-packages (from rich>=10.11.0->typer<1.0.0,>=0.3.0->spacy>=3.0->pytextrank) (3.0.0)\n",
            "Requirement already satisfied: wrapt in /usr/local/lib/python3.11/dist-packages (from smart-open<8.0.0,>=5.2.1->weasel<0.5.0,>=0.1.0->spacy>=3.0->pytextrank) (1.17.2)\n",
            "Requirement already satisfied: mdurl~=0.1 in /usr/local/lib/python3.11/dist-packages (from markdown-it-py>=2.2.0->rich>=10.11.0->typer<1.0.0,>=0.3.0->spacy>=3.0->pytextrank) (0.1.2)\n",
            "Downloading pytextrank-3.3.0-py3-none-any.whl (26 kB)\n",
            "Downloading icecream-2.1.4-py3-none-any.whl (14 kB)\n",
            "Downloading asttokens-3.0.0-py3-none-any.whl (26 kB)\n",
            "Downloading colorama-0.4.6-py2.py3-none-any.whl (25 kB)\n",
            "Downloading executing-2.2.0-py2.py3-none-any.whl (26 kB)\n",
            "Installing collected packages: executing, colorama, asttokens, icecream, pytextrank\n",
            "Successfully installed asttokens-3.0.0 colorama-0.4.6 executing-2.2.0 icecream-2.1.4 pytextrank-3.3.0\n",
            "/usr/local/lib/python3.11/dist-packages\n"
          ]
        }
      ]
    },
    {
      "cell_type": "code",
      "source": [
        "# Load English NLP model\n",
        "nlp = spacy.load(\"en_core_web_sm\")"
      ],
      "metadata": {
        "id": "ODcdgQ8q8GHF"
      },
      "execution_count": null,
      "outputs": []
    },
    {
      "cell_type": "code",
      "source": [
        "# Add PyTextRank to the NLP pipeline\n",
        "nlp.add_pipe(\"textrank\")"
      ],
      "metadata": {
        "id": "eT5arghP9b2W",
        "colab": {
          "base_uri": "https://localhost:8080/"
        },
        "outputId": "e44bcab5-84e7-4dd9-ff7e-ac9f8df58459"
      },
      "execution_count": null,
      "outputs": [
        {
          "output_type": "execute_result",
          "data": {
            "text/plain": [
              "<pytextrank.base.BaseTextRankFactory at 0x788c05c52850>"
            ]
          },
          "metadata": {},
          "execution_count": 4
        }
      ]
    },
    {
      "cell_type": "code",
      "source": [
        "def extract_key_concepts(text):\n",
        "    \"\"\"Extracts key concepts using TextRank\"\"\"\n",
        "    doc = nlp(text)\n",
        "    key_concepts = []\n",
        "\n",
        "    # Extract top-ranked phrases\n",
        "    for phrase in doc._.phrases:\n",
        "        key_concepts.append((phrase.text, phrase.rank))\n",
        "\n",
        "    return key_concepts[:10]"
      ],
      "metadata": {
        "id": "8y0Hj5wE9yRZ"
      },
      "execution_count": null,
      "outputs": []
    },
    {
      "cell_type": "code",
      "source": [],
      "metadata": {
        "id": "FHqGDUy-UfQ4"
      },
      "execution_count": null,
      "outputs": []
    },
    {
      "source": [
        "#research paper-1\n",
        "\n",
        "!pip install pypdf2\n",
        "\n",
        "import spacy\n",
        "import pytextrank\n",
        "import os\n",
        "import PyPDF2\n",
        "\n",
        "\n",
        "# Load spaCy NLP model\n",
        "nlp = spacy.load(\"en_core_web_sm\")\n",
        "\n",
        "# Add TextRank pipeline\n",
        "nlp.add_pipe(\"textrank\")\n",
        "\n",
        "def load_text_from_file(file_path):\n",
        "    \"\"\"Reads text from a PDF file using PyPDF2\"\"\"\n",
        "    if not os.path.exists(file_path):\n",
        "        print(\"Error: File not found!\")\n",
        "        return None\n",
        "\n",
        "    with open(file_path, \"rb\") as file:\n",
        "        reader = PyPDF2.PdfReader(file)\n",
        "        text = \"\"\n",
        "        for page_num in range(len(reader.pages)):\n",
        "            page = reader.pages[page_num]\n",
        "            text += page.extract_text()\n",
        "        return text\n",
        "\n",
        "\n",
        "def extract_key_concepts(text):\n",
        "    \"\"\"Extracts key concepts using TextRank\"\"\"\n",
        "    doc = nlp(text)\n",
        "    key_concepts = [(phrase.text, phrase.rank) for phrase in doc._.phrases]\n",
        "    return key_concepts[:10]\n",
        "\n",
        "file_path = \"/content/customer segmentation.pdf\"\n",
        "\n",
        "# Load text from the file\n",
        "research_text = load_text_from_file(file_path)\n",
        "\n",
        "if research_text:\n",
        "    # Extract key concepts\n",
        "    key_concepts = extract_key_concepts(research_text)\n",
        "\n",
        "    # Print results\n",
        "    print(\"\\nKey Concepts Extracted:\")\n",
        "    for concept, rank in key_concepts:\n",
        "        print(f\"{concept} (Rank: {rank:.4f})\")"
      ],
      "cell_type": "code",
      "metadata": {
        "id": "1vxsI2PtrM-z",
        "colab": {
          "base_uri": "https://localhost:8080/"
        },
        "outputId": "e2aa198b-7404-4e81-ba26-7aa8654d868e"
      },
      "execution_count": null,
      "outputs": [
        {
          "output_type": "stream",
          "name": "stdout",
          "text": [
            "Requirement already satisfied: pypdf2 in /usr/local/lib/python3.11/dist-packages (3.0.1)\n",
            "\n",
            "Key Concepts Extracted:\n",
            "Customer segmentation (Rank: 0.0788)\n",
            "Customer analysis (Rank: 0.0755)\n",
            "Customers (Rank: 0.0743)\n",
            "customer (Rank: 0.0743)\n",
            "customers (Rank: 0.0743)\n",
            "Customer segmentation processisaseparation (Rank: 0.0733)\n",
            "visualization customer (Rank: 0.0730)\n",
            "new customers (Rank: 0.0726)\n",
            "Profiling shopping mall customers (Rank: 0.0723)\n",
            "Customer identification (Rank: 0.0717)\n"
          ]
        }
      ]
    },
    {
      "cell_type": "code",
      "source": [],
      "metadata": {
        "id": "O0MuYGHroJHU"
      },
      "execution_count": null,
      "outputs": []
    },
    {
      "cell_type": "code",
      "source": [],
      "metadata": {
        "id": "zSm5BJoWU3mk"
      },
      "execution_count": null,
      "outputs": []
    },
    {
      "cell_type": "code",
      "source": [],
      "metadata": {
        "id": "xXtb8D1GU3jB"
      },
      "execution_count": null,
      "outputs": []
    },
    {
      "cell_type": "code",
      "source": [
        "###reser-2\n",
        "\n",
        "file_path = \"/content/1SJ18CS049-Kushal-S-Reddy.pdf\"  # Ensure you have this file in the working directory\n",
        "\n",
        "# Load text from the file\n",
        "research_text = load_text_from_file(file_path)\n",
        "\n",
        "if research_text:\n",
        "    # Extract key concepts\n",
        "    key_concepts = extract_key_concepts(research_text)\n",
        "\n",
        "    # Print results\n",
        "    print(\"\\nKey Concepts Extracted:\")\n",
        "    for concept, rank in key_concepts:D\n",
        "        print(f\"{concept} (Rank: {rank:.4f})\")"
      ],
      "metadata": {
        "id": "AF9jDnV7U3hJ",
        "colab": {
          "base_uri": "https://localhost:8080/"
        },
        "outputId": "b8c15f49-6a86-4442-cc9d-cc348869804c"
      },
      "execution_count": null,
      "outputs": [
        {
          "output_type": "stream",
          "name": "stdout",
          "text": [
            "\n",
            "Key Concepts Extracted:\n",
            "SJCIT (Rank: 0.0543)\n",
            "SJCIT Chikkballapur External Examiners (Rank: 0.0534)\n",
            "ReflectionNotes CustomerSegmentation (Rank: 0.0477)\n",
            "Guide Prof. Divakar K M Assistant Professor Dept. ofCSE (Rank: 0.0433)\n",
            "AbouttheDepartment CustomerSegmentation (Rank: 0.0429)\n",
            "CustomerSegmentation AbouttheDepartment (Rank: 0.0429)\n",
            "CustomerSegmentation (Rank: 0.0415)\n",
            "Sri Gurudevll Sri Adichunchanagiri Shikshana Trust® S.J.C INSTITUTE (Rank: 0.0392)\n",
            "Dept. ofCSE (Rank: 0.0380)\n",
            "Dr. G T Raju Professor (Rank: 0.0375)\n"
          ]
        }
      ]
    },
    {
      "cell_type": "code",
      "source": [],
      "metadata": {
        "id": "lD6TCkMpVBfT"
      },
      "execution_count": null,
      "outputs": []
    },
    {
      "cell_type": "code",
      "source": [
        "###reser-3\n",
        "\n",
        "file_path = \"/content/1822-b.e-cse-batchno-130.pdf\"\n",
        "\n",
        "# Load text from the file\n",
        "research_text = load_text_from_file(file_path)\n",
        "\n",
        "if research_text:\n",
        "    # Extract key concepts\n",
        "    key_concepts = extract_key_concepts(research_text)\n",
        "\n",
        "    # Print results\n",
        "    print(\"\\nKey Concepts Extracted:\")\n",
        "    for concept, rank in key_concepts:\n",
        "        print(f\"{concept} (Rank: {rank:.4f})\")"
      ],
      "metadata": {
        "colab": {
          "base_uri": "https://localhost:8080/"
        },
        "id": "usA3hX2fISQe",
        "outputId": "0c1cb503-b32f-4847-94e7-50f0fb0c62c3"
      },
      "execution_count": null,
      "outputs": [
        {
          "output_type": "stream",
          "name": "stdout",
          "text": [
            "Requirement already satisfied: pypdf2 in /usr/local/lib/python3.11/dist-packages (3.0.1)\n",
            "\n",
            "Key Concepts Extracted:\n",
            "cluster data objects (Rank: 0.0672)\n",
            "Machine learning algorithms (Rank: 0.0618)\n",
            "Customer segmentation (Rank: 0.0598)\n",
            "customer segmentation (Rank: 0.0598)\n",
            "such data (Rank: 0.0581)\n",
            "data analysis (Rank: 0.0567)\n",
            "different clusters (Rank: 0.0567)\n",
            "data sets (Rank: 0.0565)\n",
            "clustering algorithm (Rank: 0.0561)\n",
            "new data (Rank: 0.0558)\n"
          ]
        }
      ]
    },
    {
      "cell_type": "code",
      "source": [
        "###reser-4\n",
        "\n",
        "\n",
        "# File path (Replace with your actual file path)\n",
        "file_path = \"/content/42460_SULTHANA_Customer_segmentation_using_machine_learning.pdf\"  # Ensure you have this file in the working directory\n",
        "\n",
        "# Load text from the file\n",
        "research_text = load_text_from_file(file_path)\n",
        "\n",
        "if research_text:\n",
        "    # Extract key concepts\n",
        "    key_concepts = extract_key_concepts(research_text)\n",
        "\n",
        "    # Print results\n",
        "    print(\"\\nKey Concepts Extracted:\")\n",
        "    for concept, rank in key_concepts:\n",
        "        print(f\"{concept} (Rank: {rank:.4f})\")"
      ],
      "metadata": {
        "colab": {
          "base_uri": "https://localhost:8080/"
        },
        "id": "MZioJQYTJWIB",
        "outputId": "b63c8fdc-d439-471e-ca30-ba8b72c313d2"
      },
      "execution_count": null,
      "outputs": [
        {
          "output_type": "stream",
          "name": "stdout",
          "text": [
            "Requirement already satisfied: pypdf2 in /usr/local/lib/python3.11/dist-packages (3.0.1)\n",
            "\n",
            "Key Concepts Extracted:\n",
            "Customer segmentation (Rank: 0.0786)\n",
            "Customers segmentation (Rank: 0.0786)\n",
            "customer segmentation (Rank: 0.0786)\n",
            "cluster data points (Rank: 0.0726)\n",
            "customer behavior (Rank: 0.0639)\n",
            "customer retention (Rank: 0.0636)\n",
            "customers (Rank: 0.0634)\n",
            "Cluster analysis (Rank: 0.0624)\n",
            "Customer ID (Rank: 0.0619)\n",
            "Customer Segmentation (Rank: 0.0619)\n"
          ]
        }
      ]
    },
    {
      "cell_type": "code",
      "source": [
        "##resear-5\n",
        "\n",
        "file_path = \"/content/fin_irjmets1653303840.pdf\"\n",
        "\n",
        "\n",
        "# Load text from the file\n",
        "research_text = load_text_from_file(file_path)\n",
        "\n",
        "if research_text:\n",
        "    # Extract key concepts\n",
        "    key_concepts = extract_key_concepts(research_text)\n",
        "\n",
        "    # Print results\n",
        "    print(\"\\nKey Concepts Extracted:\")\n",
        "    for concept, rank in key_concepts:\n",
        "        print(f\"{concept} (Rank: {rank:.4f})\")"
      ],
      "metadata": {
        "colab": {
          "base_uri": "https://localhost:8080/"
        },
        "id": "M2Bm6BlcOA6m",
        "outputId": "9311e778-6133-49cb-d669-e97fcfce03b1"
      },
      "execution_count": null,
      "outputs": [
        {
          "output_type": "stream",
          "name": "stdout",
          "text": [
            "\n",
            "Key Concepts Extracted:\n",
            "customer segmentation (Rank: 0.0763)\n",
            "customer segments (Rank: 0.0747)\n",
            "customers (Rank: 0.0717)\n",
            "customer decline (Rank: 0.0695)\n",
            "Customer division (Rank: 0.0689)\n",
            "structured customer service (Rank: 0.0685)\n",
            "automated customer segmentation perspectives (Rank: 0.0679)\n",
            "exceptional customer service (Rank: 0.0679)\n",
            "targeted customer services (Rank: 0.0677)\n",
            "customized customer service plans (Rank: 0.0653)\n"
          ]
        }
      ]
    },
    {
      "cell_type": "code",
      "source": [
        "##rp-6\n",
        "\n",
        "\n",
        "file_path = \"/content/IGI_Book-270-292.pdf\"\n",
        "\n",
        "\n",
        "# Load text from the file\n",
        "research_text = load_text_from_file(file_path)\n",
        "\n",
        "if research_text:\n",
        "    # Extract key concepts\n",
        "    key_concepts = extract_key_concepts(research_text)\n",
        "\n",
        "    # Print results\n",
        "    print(\"\\nKey Concepts Extracted:\")\n",
        "    for concept, rank in key_concepts:\n",
        "        print(f\"{concept} (Rank: {rank:.4f})\")\n",
        "\n"
      ],
      "metadata": {
        "colab": {
          "base_uri": "https://localhost:8080/"
        },
        "id": "k8dbHGjpP6nQ",
        "outputId": "007d0c4c-db42-4c60-acbc-c6b004a3ed52"
      },
      "execution_count": null,
      "outputs": [
        {
          "output_type": "stream",
          "name": "stdout",
          "text": [
            "\n",
            "Key Concepts Extracted:\n",
            "Customer segmentation (Rank: 0.0879)\n",
            "customer segmentation (Rank: 0.0879)\n",
            "customer segmentation model (Rank: 0.0872)\n",
            "customer data (Rank: 0.0853)\n",
            "behavioral customer segmentation (Rank: 0.0828)\n",
            "customer segmentation schemes (Rank: 0.0827)\n",
            "customer segmentation criteria (Rank: 0.0826)\n",
            "Better customer segmentation (Rank: 0.0822)\n",
            "intelligent customer segmentation (Rank: 0.0812)\n",
            "satisfactory customer segmentation (Rank: 0.0811)\n"
          ]
        }
      ]
    },
    {
      "cell_type": "code",
      "source": [
        "##rp-7\n",
        "\n",
        "\n",
        "file_path = \"/content/IJCSP23D1055.pdf\"\n",
        "\n",
        "\n",
        "# Load text from the file\n",
        "research_text = load_text_from_file(file_path)\n",
        "\n",
        "if research_text:\n",
        "    # Extract key concepts\n",
        "    key_concepts = extract_key_concepts(research_text)\n",
        "\n",
        "    # Print results\n",
        "    print(\"\\nKey Concepts Extracted:\")\n",
        "    for concept, rank in key_concepts:\n",
        "        print(f\"{concept} (Rank: {rank:.4f})\")\n",
        "\n"
      ],
      "metadata": {
        "colab": {
          "base_uri": "https://localhost:8080/"
        },
        "id": "yrdVjliqSmim",
        "outputId": "144efce1-4a28-4744-d212-4525ffa7fea1"
      },
      "execution_count": null,
      "outputs": [
        {
          "output_type": "stream",
          "name": "stdout",
          "text": [
            "\n",
            "Key Concepts Extracted:\n",
            "customer data (Rank: 0.0850)\n",
            "Customer segmentation (Rank: 0.0847)\n",
            "customer segmentation (Rank: 0.0847)\n",
            "customer segmentation techniques (Rank: 0.0827)\n",
            "Customer data analysis (Rank: 0.0804)\n",
            "efficient customer segmentation (Rank: 0.0790)\n",
            "Customer loyality segmentation (Rank: 0.0783)\n",
            "Customer (Rank: 0.0734)\n",
            "customers (Rank: 0.0734)\n",
            "customer behavior (Rank: 0.0730)\n"
          ]
        }
      ]
    },
    {
      "cell_type": "code",
      "source": [
        "##rp-8\n",
        "\n",
        "\n",
        "file_path = \"/content/IJNRD2306572.pdf\"\n",
        "\n",
        "\n",
        "# Load text from the file\n",
        "research_text = load_text_from_file(file_path)\n",
        "\n",
        "if research_text:\n",
        "    # Extract key concepts\n",
        "    key_concepts = extract_key_concepts(research_text)\n",
        "\n",
        "    # Print results\n",
        "    print(\"\\nKey Concepts Extracted:\")\n",
        "    for concept, rank in key_concepts:\n",
        "        print(f\"{concept} (Rank: {rank:.4f})\")\n",
        "\n"
      ],
      "metadata": {
        "id": "CxZljmhMS8Mg",
        "colab": {
          "base_uri": "https://localhost:8080/"
        },
        "outputId": "acdc2190-2eab-4b22-87c5-7ac14df3207b"
      },
      "execution_count": null,
      "outputs": [
        {
          "output_type": "stream",
          "name": "stdout",
          "text": [
            "\n",
            "Key Concepts Extracted:\n",
            "hypothetical customer data (Rank: 0.0854)\n",
            "Customer segmentation (Rank: 0.0832)\n",
            "customer segmentation (Rank: 0.0832)\n",
            "mall customer case data (Rank: 0.0808)\n",
            "Customer (Rank: 0.0777)\n",
            "customers (Rank: 0.0777)\n",
            "customer segmentation empowers (Rank: 0.0776)\n",
            "Customer Gender (Rank: 0.0758)\n",
            "Telecom customers (Rank: 0.0755)\n",
            "segmenting customers (Rank: 0.0752)\n"
          ]
        }
      ]
    },
    {
      "cell_type": "code",
      "source": [],
      "metadata": {
        "id": "u-BjwKhZV8e2"
      },
      "execution_count": null,
      "outputs": []
    },
    {
      "cell_type": "code",
      "source": [
        "##rp-9\n",
        "\n",
        "\n",
        "file_path = \"/content/JETIR2409386.pdf\"\n",
        "\n",
        "\n",
        "# Load text from the file\n",
        "research_text = load_text_from_file(file_path)\n",
        "\n",
        "if research_text:\n",
        "    # Extract key concepts\n",
        "    key_concepts = extract_key_concepts(research_text)\n",
        "\n",
        "    # Print results\n",
        "    print(\"\\nKey Concepts Extracted:\")\n",
        "    for concept, rank in key_concepts:\n",
        "        print(f\"{concept} (Rank: {rank:.4f})\")\n",
        "\n"
      ],
      "metadata": {
        "id": "pZmsG19gV8bZ",
        "colab": {
          "base_uri": "https://localhost:8080/"
        },
        "outputId": "0b9c675c-2fa2-4600-d374-a678d12078c8"
      },
      "execution_count": null,
      "outputs": [
        {
          "output_type": "stream",
          "name": "stdout",
          "text": [
            "\n",
            "Key Concepts Extracted:\n",
            "Customer segmentation (Rank: 0.0741)\n",
            "customer segmentation (Rank: 0.0741)\n",
            "customer groups (Rank: 0.0725)\n",
            "such customers (Rank: 0.0684)\n",
            "customer segments (Rank: 0.0678)\n",
            "Customer (Rank: 0.0655)\n",
            "customers (Rank: 0.0655)\n",
            "customer classification (Rank: 0.0650)\n",
            "customer interests (Rank: 0.0649)\n",
            "target customers (Rank: 0.0635)\n"
          ]
        }
      ]
    },
    {
      "cell_type": "code",
      "source": [],
      "metadata": {
        "id": "IXf-wQhstJzE"
      },
      "execution_count": null,
      "outputs": []
    },
    {
      "cell_type": "code",
      "source": [
        "##rp-10\n",
        "\n",
        "\n",
        "file_path = \"/content/IRJET-V9I3212.pdf\"\n",
        "\n",
        "\n",
        "# Load text from the file\n",
        "research_text = load_text_from_file(file_path)\n",
        "\n",
        "if research_text:\n",
        "    # Extract key concepts\n",
        "    key_concepts = extract_key_concepts(research_text)\n",
        "\n",
        "    # Print results\n",
        "    print(\"\\nKey Concepts Extracted:\")\n",
        "    for concept, rank in key_concepts:\n",
        "        print(f\"{concept} (Rank: {rank:.4f})\")\n",
        "\n"
      ],
      "metadata": {
        "colab": {
          "base_uri": "https://localhost:8080/"
        },
        "id": "tlKmCnzotOAJ",
        "outputId": "f07bf900-534b-42eb-f8d2-4fef467a0237"
      },
      "execution_count": null,
      "outputs": [
        {
          "output_type": "stream",
          "name": "stdout",
          "text": [
            "\n",
            "Key Concepts Extracted:\n",
            "client division (Rank: 0.0939)\n",
            "client fragments (Rank: 0.0851)\n",
            "client (Rank: 0.0843)\n",
            "clients (Rank: 0.0843)\n",
            "client division tech niques (Rank: 0.0824)\n",
            "client conduct (Rank: 0.0815)\n",
            "client deserting (Rank: 0.0813)\n",
            "better client connections (Rank: 0.0772)\n",
            "Customer segmentation (Rank: 0.0597)\n",
            "customer information (Rank: 0.0593)\n"
          ]
        }
      ]
    },
    {
      "cell_type": "code",
      "source": [
        "##rp-11\n",
        "\n",
        "\n",
        "file_path = \"/content/mall-customer-segmentation-using-clustering-algorithm-30t7bh56.pdf\"\n",
        "\n",
        "\n",
        "# Load text from the file\n",
        "research_text = load_text_from_file(file_path)\n",
        "\n",
        "if research_text:\n",
        "    # Extract key concepts\n",
        "    key_concepts = extract_key_concepts(research_text)\n",
        "\n",
        "    # Print results\n",
        "    print(\"\\nKey Concepts Extracted:\")\n",
        "    for concept, rank in key_concepts:\n",
        "        print(f\"{concept} (Rank: {rank:.4f})\")\n",
        "\n"
      ],
      "metadata": {
        "colab": {
          "base_uri": "https://localhost:8080/"
        },
        "id": "VFMwU1vCtaND",
        "outputId": "3543208c-d12a-4261-a92f-b1e76c576f9b"
      },
      "execution_count": null,
      "outputs": [
        {
          "output_type": "stream",
          "name": "stdout",
          "text": [
            "\n",
            "Key Concepts Extracted:\n",
            "customer data (Rank: 0.0965)\n",
            "customer segmentation (Rank: 0.0811)\n",
            "customer segments (Rank: 0.0785)\n",
            "Customer Segmentation (Rank: 0.0780)\n",
            "customer segmentation approach (Rank: 0.0774)\n",
            "Customers (Rank: 0.0766)\n",
            "customers (Rank: 0.0766)\n",
            "potential customers (Rank: 0.0762)\n",
            "customer base (Rank: 0.0751)\n",
            "customer defection (Rank: 0.0739)\n"
          ]
        }
      ]
    },
    {
      "cell_type": "code",
      "source": [],
      "metadata": {
        "id": "O4LJGhCRt-ht"
      },
      "execution_count": null,
      "outputs": []
    }
  ]
}